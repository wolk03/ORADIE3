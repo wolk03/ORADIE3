{
 "cells": [
  {
   "cell_type": "markdown",
   "id": "cd283f36-d241-4634-92ed-03aada143a07",
   "metadata": {},
   "source": [
    "# TP01"
   ]
  },
  {
   "cell_type": "code",
   "execution_count": 4,
   "id": "419d8592-9d24-476c-8ff7-3f7fdd9df394",
   "metadata": {},
   "outputs": [],
   "source": [
    "import pandas as pd\n",
    "import numpy as np"
   ]
  },
  {
   "cell_type": "code",
   "execution_count": 7,
   "id": "39fba847-2afe-4225-a901-40278a61e8a5",
   "metadata": {},
   "outputs": [],
   "source": [
    "data=pd.read_csv('data/USA_Housing.csv')"
   ]
  },
  {
   "cell_type": "code",
   "execution_count": 10,
   "id": "97d973d4-00fa-4084-8862-e499e07b3dfb",
   "metadata": {},
   "outputs": [
    {
     "data": {
      "text/plain": [
       "Avg. Area Income                0\n",
       "Avg. Area House Age             0\n",
       "Avg. Area Number of Rooms       0\n",
       "Avg. Area Number of Bedrooms    0\n",
       "Area Population                 0\n",
       "Price                           0\n",
       "Address                         0\n",
       "dtype: int64"
      ]
     },
     "execution_count": 10,
     "metadata": {},
     "output_type": "execute_result"
    }
   ],
   "source": [
    "data.isnull().sum()"
   ]
  },
  {
   "cell_type": "code",
   "execution_count": null,
   "id": "4a549f0e-e327-4a98-816e-9f3743f1f532",
   "metadata": {},
   "outputs": [],
   "source": []
  },
  {
   "cell_type": "code",
   "execution_count": 11,
   "id": "1ef67d38-2ff3-49dc-a0cf-e2fda9daf75f",
   "metadata": {},
   "outputs": [
    {
     "data": {
      "text/plain": [
       "<bound method DataFrame.info of       Avg. Area Income  Avg. Area House Age  Avg. Area Number of Rooms  \\\n",
       "0         79545.458574             5.682861                   7.009188   \n",
       "1         79248.642455             6.002900                   6.730821   \n",
       "2         61287.067179             5.865890                   8.512727   \n",
       "3         63345.240046             7.188236                   5.586729   \n",
       "4         59982.197226             5.040555                   7.839388   \n",
       "...                ...                  ...                        ...   \n",
       "4995      60567.944140             7.830362                   6.137356   \n",
       "4996      78491.275435             6.999135                   6.576763   \n",
       "4997      63390.686886             7.250591                   4.805081   \n",
       "4998      68001.331235             5.534388                   7.130144   \n",
       "4999      65510.581804             5.992305                   6.792336   \n",
       "\n",
       "      Avg. Area Number of Bedrooms  Area Population         Price  \\\n",
       "0                             4.09     23086.800503  1.059034e+06   \n",
       "1                             3.09     40173.072174  1.505891e+06   \n",
       "2                             5.13     36882.159400  1.058988e+06   \n",
       "3                             3.26     34310.242831  1.260617e+06   \n",
       "4                             4.23     26354.109472  6.309435e+05   \n",
       "...                            ...              ...           ...   \n",
       "4995                          3.46     22837.361035  1.060194e+06   \n",
       "4996                          4.02     25616.115489  1.482618e+06   \n",
       "4997                          2.13     33266.145490  1.030730e+06   \n",
       "4998                          5.44     42625.620156  1.198657e+06   \n",
       "4999                          4.07     46501.283803  1.298950e+06   \n",
       "\n",
       "                                                Address  \n",
       "0     208 Michael Ferry Apt. 674\\nLaurabury, NE 3701...  \n",
       "1     188 Johnson Views Suite 079\\nLake Kathleen, CA...  \n",
       "2     9127 Elizabeth Stravenue\\nDanieltown, WI 06482...  \n",
       "3                             USS Barnett\\nFPO AP 44820  \n",
       "4                            USNS Raymond\\nFPO AE 09386  \n",
       "...                                                 ...  \n",
       "4995                   USNS Williams\\nFPO AP 30153-7653  \n",
       "4996              PSC 9258, Box 8489\\nAPO AA 42991-3352  \n",
       "4997  4215 Tracy Garden Suite 076\\nJoshualand, VA 01...  \n",
       "4998                          USS Wallace\\nFPO AE 73316  \n",
       "4999  37778 George Ridges Apt. 509\\nEast Holly, NV 2...  \n",
       "\n",
       "[5000 rows x 7 columns]>"
      ]
     },
     "execution_count": 11,
     "metadata": {},
     "output_type": "execute_result"
    }
   ],
   "source": [
    "data.info"
   ]
  },
  {
   "cell_type": "code",
   "execution_count": 12,
   "id": "00ee764e-009b-4d2f-bb81-144b9f0c02d3",
   "metadata": {},
   "outputs": [
    {
     "name": "stdout",
     "output_type": "stream",
     "text": [
      "<class 'pandas.core.frame.DataFrame'>\n",
      "RangeIndex: 5000 entries, 0 to 4999\n",
      "Data columns (total 7 columns):\n",
      " #   Column                        Non-Null Count  Dtype  \n",
      "---  ------                        --------------  -----  \n",
      " 0   Avg. Area Income              5000 non-null   float64\n",
      " 1   Avg. Area House Age           5000 non-null   float64\n",
      " 2   Avg. Area Number of Rooms     5000 non-null   float64\n",
      " 3   Avg. Area Number of Bedrooms  5000 non-null   float64\n",
      " 4   Area Population               5000 non-null   float64\n",
      " 5   Price                         5000 non-null   float64\n",
      " 6   Address                       5000 non-null   object \n",
      "dtypes: float64(6), object(1)\n",
      "memory usage: 273.6+ KB\n"
     ]
    }
   ],
   "source": [
    "data.info()"
   ]
  },
  {
   "cell_type": "code",
   "execution_count": 13,
   "id": "52eac2ae-7013-4b58-8e41-05e5b968794d",
   "metadata": {},
   "outputs": [
    {
     "data": {
      "text/html": [
       "<div>\n",
       "<style scoped>\n",
       "    .dataframe tbody tr th:only-of-type {\n",
       "        vertical-align: middle;\n",
       "    }\n",
       "\n",
       "    .dataframe tbody tr th {\n",
       "        vertical-align: top;\n",
       "    }\n",
       "\n",
       "    .dataframe thead th {\n",
       "        text-align: right;\n",
       "    }\n",
       "</style>\n",
       "<table border=\"1\" class=\"dataframe\">\n",
       "  <thead>\n",
       "    <tr style=\"text-align: right;\">\n",
       "      <th></th>\n",
       "      <th>Avg. Area Income</th>\n",
       "      <th>Avg. Area House Age</th>\n",
       "      <th>Avg. Area Number of Rooms</th>\n",
       "      <th>Avg. Area Number of Bedrooms</th>\n",
       "      <th>Area Population</th>\n",
       "      <th>Price</th>\n",
       "      <th>Address</th>\n",
       "    </tr>\n",
       "  </thead>\n",
       "  <tbody>\n",
       "    <tr>\n",
       "      <th>0</th>\n",
       "      <td>79545.458574</td>\n",
       "      <td>5.682861</td>\n",
       "      <td>7.009188</td>\n",
       "      <td>4.09</td>\n",
       "      <td>23086.800503</td>\n",
       "      <td>1.059034e+06</td>\n",
       "      <td>208 Michael Ferry Apt. 674\\nLaurabury, NE 3701...</td>\n",
       "    </tr>\n",
       "    <tr>\n",
       "      <th>1</th>\n",
       "      <td>79248.642455</td>\n",
       "      <td>6.002900</td>\n",
       "      <td>6.730821</td>\n",
       "      <td>3.09</td>\n",
       "      <td>40173.072174</td>\n",
       "      <td>1.505891e+06</td>\n",
       "      <td>188 Johnson Views Suite 079\\nLake Kathleen, CA...</td>\n",
       "    </tr>\n",
       "    <tr>\n",
       "      <th>2</th>\n",
       "      <td>61287.067179</td>\n",
       "      <td>5.865890</td>\n",
       "      <td>8.512727</td>\n",
       "      <td>5.13</td>\n",
       "      <td>36882.159400</td>\n",
       "      <td>1.058988e+06</td>\n",
       "      <td>9127 Elizabeth Stravenue\\nDanieltown, WI 06482...</td>\n",
       "    </tr>\n",
       "    <tr>\n",
       "      <th>3</th>\n",
       "      <td>63345.240046</td>\n",
       "      <td>7.188236</td>\n",
       "      <td>5.586729</td>\n",
       "      <td>3.26</td>\n",
       "      <td>34310.242831</td>\n",
       "      <td>1.260617e+06</td>\n",
       "      <td>USS Barnett\\nFPO AP 44820</td>\n",
       "    </tr>\n",
       "    <tr>\n",
       "      <th>4</th>\n",
       "      <td>59982.197226</td>\n",
       "      <td>5.040555</td>\n",
       "      <td>7.839388</td>\n",
       "      <td>4.23</td>\n",
       "      <td>26354.109472</td>\n",
       "      <td>6.309435e+05</td>\n",
       "      <td>USNS Raymond\\nFPO AE 09386</td>\n",
       "    </tr>\n",
       "    <tr>\n",
       "      <th>...</th>\n",
       "      <td>...</td>\n",
       "      <td>...</td>\n",
       "      <td>...</td>\n",
       "      <td>...</td>\n",
       "      <td>...</td>\n",
       "      <td>...</td>\n",
       "      <td>...</td>\n",
       "    </tr>\n",
       "    <tr>\n",
       "      <th>4995</th>\n",
       "      <td>60567.944140</td>\n",
       "      <td>7.830362</td>\n",
       "      <td>6.137356</td>\n",
       "      <td>3.46</td>\n",
       "      <td>22837.361035</td>\n",
       "      <td>1.060194e+06</td>\n",
       "      <td>USNS Williams\\nFPO AP 30153-7653</td>\n",
       "    </tr>\n",
       "    <tr>\n",
       "      <th>4996</th>\n",
       "      <td>78491.275435</td>\n",
       "      <td>6.999135</td>\n",
       "      <td>6.576763</td>\n",
       "      <td>4.02</td>\n",
       "      <td>25616.115489</td>\n",
       "      <td>1.482618e+06</td>\n",
       "      <td>PSC 9258, Box 8489\\nAPO AA 42991-3352</td>\n",
       "    </tr>\n",
       "    <tr>\n",
       "      <th>4997</th>\n",
       "      <td>63390.686886</td>\n",
       "      <td>7.250591</td>\n",
       "      <td>4.805081</td>\n",
       "      <td>2.13</td>\n",
       "      <td>33266.145490</td>\n",
       "      <td>1.030730e+06</td>\n",
       "      <td>4215 Tracy Garden Suite 076\\nJoshualand, VA 01...</td>\n",
       "    </tr>\n",
       "    <tr>\n",
       "      <th>4998</th>\n",
       "      <td>68001.331235</td>\n",
       "      <td>5.534388</td>\n",
       "      <td>7.130144</td>\n",
       "      <td>5.44</td>\n",
       "      <td>42625.620156</td>\n",
       "      <td>1.198657e+06</td>\n",
       "      <td>USS Wallace\\nFPO AE 73316</td>\n",
       "    </tr>\n",
       "    <tr>\n",
       "      <th>4999</th>\n",
       "      <td>65510.581804</td>\n",
       "      <td>5.992305</td>\n",
       "      <td>6.792336</td>\n",
       "      <td>4.07</td>\n",
       "      <td>46501.283803</td>\n",
       "      <td>1.298950e+06</td>\n",
       "      <td>37778 George Ridges Apt. 509\\nEast Holly, NV 2...</td>\n",
       "    </tr>\n",
       "  </tbody>\n",
       "</table>\n",
       "<p>5000 rows × 7 columns</p>\n",
       "</div>"
      ],
      "text/plain": [
       "      Avg. Area Income  Avg. Area House Age  Avg. Area Number of Rooms  \\\n",
       "0         79545.458574             5.682861                   7.009188   \n",
       "1         79248.642455             6.002900                   6.730821   \n",
       "2         61287.067179             5.865890                   8.512727   \n",
       "3         63345.240046             7.188236                   5.586729   \n",
       "4         59982.197226             5.040555                   7.839388   \n",
       "...                ...                  ...                        ...   \n",
       "4995      60567.944140             7.830362                   6.137356   \n",
       "4996      78491.275435             6.999135                   6.576763   \n",
       "4997      63390.686886             7.250591                   4.805081   \n",
       "4998      68001.331235             5.534388                   7.130144   \n",
       "4999      65510.581804             5.992305                   6.792336   \n",
       "\n",
       "      Avg. Area Number of Bedrooms  Area Population         Price  \\\n",
       "0                             4.09     23086.800503  1.059034e+06   \n",
       "1                             3.09     40173.072174  1.505891e+06   \n",
       "2                             5.13     36882.159400  1.058988e+06   \n",
       "3                             3.26     34310.242831  1.260617e+06   \n",
       "4                             4.23     26354.109472  6.309435e+05   \n",
       "...                            ...              ...           ...   \n",
       "4995                          3.46     22837.361035  1.060194e+06   \n",
       "4996                          4.02     25616.115489  1.482618e+06   \n",
       "4997                          2.13     33266.145490  1.030730e+06   \n",
       "4998                          5.44     42625.620156  1.198657e+06   \n",
       "4999                          4.07     46501.283803  1.298950e+06   \n",
       "\n",
       "                                                Address  \n",
       "0     208 Michael Ferry Apt. 674\\nLaurabury, NE 3701...  \n",
       "1     188 Johnson Views Suite 079\\nLake Kathleen, CA...  \n",
       "2     9127 Elizabeth Stravenue\\nDanieltown, WI 06482...  \n",
       "3                             USS Barnett\\nFPO AP 44820  \n",
       "4                            USNS Raymond\\nFPO AE 09386  \n",
       "...                                                 ...  \n",
       "4995                   USNS Williams\\nFPO AP 30153-7653  \n",
       "4996              PSC 9258, Box 8489\\nAPO AA 42991-3352  \n",
       "4997  4215 Tracy Garden Suite 076\\nJoshualand, VA 01...  \n",
       "4998                          USS Wallace\\nFPO AE 73316  \n",
       "4999  37778 George Ridges Apt. 509\\nEast Holly, NV 2...  \n",
       "\n",
       "[5000 rows x 7 columns]"
      ]
     },
     "execution_count": 13,
     "metadata": {},
     "output_type": "execute_result"
    }
   ],
   "source": [
    "data=pd.read_csv('data/USA_Housing.csv')\n",
    "data"
   ]
  },
  {
   "cell_type": "code",
   "execution_count": 17,
   "id": "9f168fbf-c855-48e7-9fd8-9babb9faa8c2",
   "metadata": {},
   "outputs": [
    {
     "data": {
      "text/plain": [
       "np.float64(2469065.5941747027)"
      ]
     },
     "execution_count": 17,
     "metadata": {},
     "output_type": "execute_result"
    }
   ],
   "source": [
    "data['Price'].max()"
   ]
  },
  {
   "cell_type": "code",
   "execution_count": 18,
   "id": "ccc6849a-b87c-4526-a2b5-2ae43b271b04",
   "metadata": {},
   "outputs": [
    {
     "data": {
      "text/plain": [
       "np.float64(107701.74837763936)"
      ]
     },
     "execution_count": 18,
     "metadata": {},
     "output_type": "execute_result"
    }
   ],
   "source": [
    "data['Avg. Area Income'].max()"
   ]
  },
  {
   "cell_type": "code",
   "execution_count": 19,
   "id": "a09dc566-4c0a-41ab-8d04-58a0f74c6d4c",
   "metadata": {},
   "outputs": [
    {
     "data": {
      "text/plain": [
       "np.float64(15938.657923287848)"
      ]
     },
     "execution_count": 19,
     "metadata": {},
     "output_type": "execute_result"
    }
   ],
   "source": [
    "data['Price'].min()"
   ]
  },
  {
   "cell_type": "code",
   "execution_count": 20,
   "id": "080a42a9-4594-4278-a220-1a36441527e2",
   "metadata": {},
   "outputs": [
    {
     "data": {
      "text/plain": [
       "np.float64(107701.74837763936)"
      ]
     },
     "execution_count": 20,
     "metadata": {},
     "output_type": "execute_result"
    }
   ],
   "source": [
    "data['Avg. Area Income'].max()"
   ]
  },
  {
   "cell_type": "code",
   "execution_count": null,
   "id": "19d857cf-35a5-4ff3-a1f4-b3cc8bc0ce90",
   "metadata": {},
   "outputs": [],
   "source": [
    "data['Avg. Area Income'].values\n",
    "data['Price'].values\n",
    "dat"
   ]
  }
 ],
 "metadata": {
  "kernelspec": {
   "display_name": "Python 3 (ipykernel)",
   "language": "python",
   "name": "python3"
  },
  "language_info": {
   "codemirror_mode": {
    "name": "ipython",
    "version": 3
   },
   "file_extension": ".py",
   "mimetype": "text/x-python",
   "name": "python",
   "nbconvert_exporter": "python",
   "pygments_lexer": "ipython3",
   "version": "3.10.16"
  }
 },
 "nbformat": 4,
 "nbformat_minor": 5
}
