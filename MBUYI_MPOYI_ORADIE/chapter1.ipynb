{
 "cells": [
  {
   "cell_type": "markdown",
   "id": "f070fe48-15fa-4b0a-b119-e8cca6a1db36",
   "metadata": {},
   "source": [
    "# A. IMPORTATION DE LIBRAIRIES "
   ]
  },
  {
   "cell_type": "code",
   "execution_count": 61,
   "id": "bdc7b4e1-e15f-45d4-9157-96bf0e877f2c",
   "metadata": {},
   "outputs": [],
   "source": [
    "# importation de librairie "
   ]
  },
  {
   "cell_type": "code",
   "execution_count": 62,
   "id": "779524f2-7180-4b7b-b11e-75fd186b3468",
   "metadata": {},
   "outputs": [],
   "source": [
    "import numpy as np"
   ]
  },
  {
   "cell_type": "markdown",
   "id": "d04376f1-51d5-44b9-8354-8490e223013a",
   "metadata": {},
   "source": [
    "# 1. Tableau"
   ]
  },
  {
   "cell_type": "markdown",
   "id": "a08d8985-687d-49e5-8463-a65e5a8bf366",
   "metadata": {},
   "source": [
    "## 1.1 Tableau a 1D"
   ]
  },
  {
   "cell_type": "code",
   "execution_count": 65,
   "id": "74bc4035-7b34-4e0f-86a0-4a3acbebda1b",
   "metadata": {},
   "outputs": [],
   "source": [
    "# Creation d'un tableau a 1D\n",
    "tab_1D = np.array([2,4,6,8,10,12,14])"
   ]
  },
  {
   "cell_type": "code",
   "execution_count": 66,
   "id": "69a7da53-11d3-4f64-8f8e-1b43b916815c",
   "metadata": {},
   "outputs": [
    {
     "data": {
      "text/plain": [
       "array([ 2,  4,  6,  8, 10, 12, 14])"
      ]
     },
     "execution_count": 66,
     "metadata": {},
     "output_type": "execute_result"
    }
   ],
   "source": [
    "tab_1D"
   ]
  },
  {
   "cell_type": "code",
   "execution_count": 67,
   "id": "4d94577d-a174-4fb7-b6e0-60379227c6d4",
   "metadata": {},
   "outputs": [
    {
     "name": "stdout",
     "output_type": "stream",
     "text": [
      "[ 2  4  6  8 10 12 14]\n"
     ]
    }
   ],
   "source": [
    "print(tab_1D)"
   ]
  },
  {
   "cell_type": "code",
   "execution_count": 68,
   "id": "7e7fdd66-fe32-4bdd-aa84-18867d701e52",
   "metadata": {},
   "outputs": [
    {
     "name": "stdout",
     "output_type": "stream",
     "text": [
      "(7,)\n"
     ]
    }
   ],
   "source": [
    "print(tab_1D.shape)"
   ]
  },
  {
   "cell_type": "code",
   "execution_count": 69,
   "id": "e76c2ed5-d73f-42fe-b2b6-23188b7e6b54",
   "metadata": {},
   "outputs": [
    {
     "data": {
      "text/plain": [
       "numpy.ndarray"
      ]
     },
     "execution_count": 69,
     "metadata": {},
     "output_type": "execute_result"
    }
   ],
   "source": [
    "type(tab_1D)"
   ]
  },
  {
   "cell_type": "code",
   "execution_count": 70,
   "id": "9635ea94-b84b-41fd-a255-13c190386fbd",
   "metadata": {},
   "outputs": [
    {
     "name": "stdout",
     "output_type": "stream",
     "text": [
      "Dimension de tableau (7,)\n",
      "Type du tableau <class 'numpy.ndarray'>\n",
      "Voici le tableau: [ 2  4  6  8 10 12 14]\n"
     ]
    }
   ],
   "source": [
    "print(\"Dimension de tableau\", tab_1D.shape)\n",
    "print(\"Type du tableau\", type(tab_1D))\n",
    "print(\"Voici le tableau:\", tab_1D)"
   ]
  },
  {
   "cell_type": "markdown",
   "id": "1559008c-f48e-4ae1-a1b9-2f74ed9bcac5",
   "metadata": {},
   "source": [
    "## 1.2 Tableau 2D"
   ]
  },
  {
   "cell_type": "code",
   "execution_count": 72,
   "id": "55eef934-0292-469d-b251-2a267f92d913",
   "metadata": {},
   "outputs": [],
   "source": [
    "# Creation d'un tableau a 2D\n",
    "tab_2D = np.array([\n",
    "    [1,3,5,7,8],\n",
    "    [11,33,55,77,88]\n",
    "])"
   ]
  },
  {
   "cell_type": "code",
   "execution_count": 73,
   "id": "e4d6c73d-88b0-4049-97b8-4aa5cfefe84d",
   "metadata": {},
   "outputs": [
    {
     "name": "stdout",
     "output_type": "stream",
     "text": [
      "Dimension de tableau (2, 5)\n",
      "Type du tableau <class 'numpy.ndarray'>\n",
      "Voici le tableau: [[ 1  3  5  7  8]\n",
      " [11 33 55 77 88]]\n"
     ]
    }
   ],
   "source": [
    "print(\"Dimension de tableau\", tab_2D.shape)\n",
    "print(\"Type du tableau\", type(tab_2D))\n",
    "print(\"Voici le tableau:\", tab_2D)"
   ]
  },
  {
   "cell_type": "markdown",
   "id": "d1e25584-45a2-43eb-b017-a22bee1aafc7",
   "metadata": {},
   "source": [
    "## 1.3 Tableau 3D"
   ]
  },
  {
   "cell_type": "code",
   "execution_count": 75,
   "id": "38f81470-b233-40dc-b70a-8e643bc5d347",
   "metadata": {},
   "outputs": [],
   "source": [
    "# Creation d'un tableau 3D\n",
    "tab_3D = np.array([[\n",
    "    [9,7,5,3,1],\n",
    "    [100,90,70,50,30],\n",
    "    [115,95,75,55,35]\n",
    "]])"
   ]
  },
  {
   "cell_type": "code",
   "execution_count": 76,
   "id": "c9a95452-97c6-40af-b401-070e578da0e9",
   "metadata": {},
   "outputs": [
    {
     "name": "stdout",
     "output_type": "stream",
     "text": [
      "Dimension de tableau (1, 3, 5)\n",
      "Type du tableau <class 'numpy.ndarray'>\n",
      "Voici le tableau: [[[  9   7   5   3   1]\n",
      "  [100  90  70  50  30]\n",
      "  [115  95  75  55  35]]]\n"
     ]
    }
   ],
   "source": [
    "print(\"Dimension de tableau\", tab_3D.shape)\n",
    "print(\"Type du tableau\", type(tab_3D))\n",
    "print(\"Voici le tableau:\", tab_3D)"
   ]
  },
  {
   "cell_type": "markdown",
   "id": "0eb2d3f1-e93e-42d0-b320-3a58270346a4",
   "metadata": {},
   "source": [
    "## 1.4 Tableau a 4D"
   ]
  },
  {
   "cell_type": "code",
   "execution_count": 78,
   "id": "e8cb84a9-737e-47ce-96e5-bc8488e15774",
   "metadata": {},
   "outputs": [],
   "source": [
    "# Creation d'un tableau 4D\n",
    "tab_4D = np.array([[[\n",
    "    [2,4,6,8,10],\n",
    "    [25,45,65,85,105],\n",
    "    [200,150,100,55,25],\n",
    "]]])"
   ]
  },
  {
   "cell_type": "code",
   "execution_count": 79,
   "id": "c4b4e785-10bd-4738-87a0-ccff2fa7fbd8",
   "metadata": {},
   "outputs": [
    {
     "name": "stdout",
     "output_type": "stream",
     "text": [
      "Dimension de tableau (1, 1, 3, 5)\n",
      "Type du tableau <class 'numpy.ndarray'>\n",
      "Voici le tableau: [[[[  2   4   6   8  10]\n",
      "   [ 25  45  65  85 105]\n",
      "   [200 150 100  55  25]]]]\n"
     ]
    }
   ],
   "source": [
    "print(\"Dimension de tableau\", tab_4D.shape)\n",
    "print(\"Type du tableau\", type(tab_4D))\n",
    "print(\"Voici le tableau:\", tab_4D)"
   ]
  },
  {
   "cell_type": "markdown",
   "id": "f9329382-77bb-4a43-9ff0-8c8bf74ef886",
   "metadata": {},
   "source": [
    "# B. OPERATIONS"
   ]
  },
  {
   "cell_type": "code",
   "execution_count": 81,
   "id": "922dff8a-6af7-400a-810c-a5c5c60b0610",
   "metadata": {},
   "outputs": [],
   "source": [
    "a = np.array([\n",
    "    [2,4,6,8],\n",
    "    [25,45,65,85],\n",
    "])\n",
    "\n",
    "b = np.array([\n",
    "    [20,40,60,80],\n",
    "    [250,450,650,850],\n",
    "])"
   ]
  },
  {
   "cell_type": "code",
   "execution_count": 82,
   "id": "1405d723-371a-4f90-8f3f-662131f72f43",
   "metadata": {},
   "outputs": [
    {
     "name": "stdout",
     "output_type": "stream",
     "text": [
      "(2, 4)\n",
      "[[ 2  4  6  8]\n",
      " [25 45 65 85]]\n",
      "(2, 4)\n",
      "[[ 20  40  60  80]\n",
      " [250 450 650 850]]\n"
     ]
    }
   ],
   "source": [
    "print(a.shape)\n",
    "print(a)\n",
    "print(b.shape)\n",
    "print(b)"
   ]
  },
  {
   "cell_type": "markdown",
   "id": "892bd027-ebd4-4ceb-9261-60c678b1247f",
   "metadata": {},
   "source": [
    "# C. MANIPULATION DES DONNÉES "
   ]
  },
  {
   "cell_type": "code",
   "execution_count": 84,
   "id": "8bb41ba7-0256-46b8-92af-635b4b349789",
   "metadata": {},
   "outputs": [],
   "source": [
    "# Creation d'un dictionnaire\n",
    "Info_Étudiants = {\n",
    "    'Matricule': '2021235543',\n",
    "    'Nom': 'KASONGO',\n",
    "    'Prenom': 'david',\n",
    "    'Age': 23,\n",
    "    'GPA': 'A',\n",
    "}"
   ]
  },
  {
   "cell_type": "code",
   "execution_count": 85,
   "id": "af3451f5-7ca7-407a-8775-cd258cf50180",
   "metadata": {},
   "outputs": [
    {
     "data": {
      "text/plain": [
       "{'Matricule': '2021235543',\n",
       " 'Nom': 'KASONGO',\n",
       " 'Prenom': 'david',\n",
       " 'Age': 23,\n",
       " 'GPA': 'A'}"
      ]
     },
     "execution_count": 85,
     "metadata": {},
     "output_type": "execute_result"
    }
   ],
   "source": [
    "Info_Étudiants"
   ]
  },
  {
   "cell_type": "code",
   "execution_count": 86,
   "id": "b92ff1ce-57fe-42d1-9c9d-af89e1e0f5eb",
   "metadata": {},
   "outputs": [
    {
     "name": "stdout",
     "output_type": "stream",
     "text": [
      "{'Matricule': '2021235543', 'Nom': 'KASONGO', 'Prenom': 'david', 'Age': 23, 'GPA': 'A'}\n"
     ]
    }
   ],
   "source": [
    "print(Info_Étudiants)"
   ]
  },
  {
   "cell_type": "code",
   "execution_count": 87,
   "id": "3c85f7e4-f108-4554-af0d-268712861992",
   "metadata": {},
   "outputs": [],
   "source": [
    "Info_tous_les_étudiants_BAC3_GL_IA = {\n",
    "    'Matricule':['2022010111','2022010112','2022010113','2022010114','2022010115'],\n",
    "    'Nom': ['SAMPATWA','KATUMBA','KIMENYEMBO','KALOMBO','KALOBO'],\n",
    "    'Prenom':['Diev','Manassé','Ketsia','Charly','Justin'],\n",
    "    'Age': [25, 22, 12, 26,18],\n",
    "    'GPA':['A','B','C','D','E'],\n",
    "}"
   ]
  },
  {
   "cell_type": "code",
   "execution_count": 88,
   "id": "c7d39b9c-62f1-4c50-83ea-3372b770405a",
   "metadata": {},
   "outputs": [
    {
     "data": {
      "text/plain": [
       "{'Matricule': ['2022010111',\n",
       "  '2022010112',\n",
       "  '2022010113',\n",
       "  '2022010114',\n",
       "  '2022010115'],\n",
       " 'Nom': ['SAMPATWA', 'KATUMBA', 'KIMENYEMBO', 'KALOMBO', 'KALOBO'],\n",
       " 'Prenom': ['Diev', 'Manassé', 'Ketsia', 'Charly', 'Justin'],\n",
       " 'Age': [25, 22, 12, 26, 18],\n",
       " 'GPA': ['A', 'B', 'C', 'D', 'E']}"
      ]
     },
     "execution_count": 88,
     "metadata": {},
     "output_type": "execute_result"
    }
   ],
   "source": [
    "Info_tous_les_étudiants_BAC3_GL_IA"
   ]
  },
  {
   "cell_type": "code",
   "execution_count": 89,
   "id": "98a2f12f-30d8-4b45-84e8-3cf217514d6c",
   "metadata": {},
   "outputs": [
    {
     "name": "stdout",
     "output_type": "stream",
     "text": [
      "{'Matricule': ['2022010111', '2022010112', '2022010113', '2022010114', '2022010115'], 'Nom': ['SAMPATWA', 'KATUMBA', 'KIMENYEMBO', 'KALOMBO', 'KALOBO'], 'Prenom': ['Diev', 'Manassé', 'Ketsia', 'Charly', 'Justin'], 'Age': [25, 22, 12, 26, 18], 'GPA': ['A', 'B', 'C', 'D', 'E']}\n"
     ]
    }
   ],
   "source": [
    "print(Info_tous_les_étudiants_BAC3_GL_IA)"
   ]
  },
  {
   "cell_type": "code",
   "execution_count": 90,
   "id": "933e1219-965f-4815-a8f4-d8201c95602c",
   "metadata": {},
   "outputs": [],
   "source": [
    "# Importation Pandas\n",
    "import pandas as pd"
   ]
  },
  {
   "cell_type": "code",
   "execution_count": 92,
   "id": "c6bcd729-6fa8-4c7b-8e45-97187d93f021",
   "metadata": {},
   "outputs": [],
   "source": [
    "donnees_etudiants = pd.DataFrame(Info_tous_les_étudiants_BAC3_GL_IA)"
   ]
  },
  {
   "cell_type": "code",
   "execution_count": 94,
   "id": "35e5fdcf-31b1-48d8-88f1-f972cf8ffb5d",
   "metadata": {},
   "outputs": [
    {
     "data": {
      "text/html": [
       "<div>\n",
       "<style scoped>\n",
       "    .dataframe tbody tr th:only-of-type {\n",
       "        vertical-align: middle;\n",
       "    }\n",
       "\n",
       "    .dataframe tbody tr th {\n",
       "        vertical-align: top;\n",
       "    }\n",
       "\n",
       "    .dataframe thead th {\n",
       "        text-align: right;\n",
       "    }\n",
       "</style>\n",
       "<table border=\"1\" class=\"dataframe\">\n",
       "  <thead>\n",
       "    <tr style=\"text-align: right;\">\n",
       "      <th></th>\n",
       "      <th>Matricule</th>\n",
       "      <th>Nom</th>\n",
       "      <th>Prenom</th>\n",
       "      <th>Age</th>\n",
       "      <th>GPA</th>\n",
       "    </tr>\n",
       "  </thead>\n",
       "  <tbody>\n",
       "    <tr>\n",
       "      <th>0</th>\n",
       "      <td>2022010111</td>\n",
       "      <td>SAMPATWA</td>\n",
       "      <td>Diev</td>\n",
       "      <td>25</td>\n",
       "      <td>A</td>\n",
       "    </tr>\n",
       "    <tr>\n",
       "      <th>1</th>\n",
       "      <td>2022010112</td>\n",
       "      <td>KATUMBA</td>\n",
       "      <td>Manassé</td>\n",
       "      <td>22</td>\n",
       "      <td>B</td>\n",
       "    </tr>\n",
       "    <tr>\n",
       "      <th>2</th>\n",
       "      <td>2022010113</td>\n",
       "      <td>KIMENYEMBO</td>\n",
       "      <td>Ketsia</td>\n",
       "      <td>12</td>\n",
       "      <td>C</td>\n",
       "    </tr>\n",
       "    <tr>\n",
       "      <th>3</th>\n",
       "      <td>2022010114</td>\n",
       "      <td>KALOMBO</td>\n",
       "      <td>Charly</td>\n",
       "      <td>26</td>\n",
       "      <td>D</td>\n",
       "    </tr>\n",
       "    <tr>\n",
       "      <th>4</th>\n",
       "      <td>2022010115</td>\n",
       "      <td>KALOBO</td>\n",
       "      <td>Justin</td>\n",
       "      <td>18</td>\n",
       "      <td>E</td>\n",
       "    </tr>\n",
       "  </tbody>\n",
       "</table>\n",
       "</div>"
      ],
      "text/plain": [
       "    Matricule         Nom   Prenom  Age GPA\n",
       "0  2022010111    SAMPATWA     Diev   25   A\n",
       "1  2022010112     KATUMBA  Manassé   22   B\n",
       "2  2022010113  KIMENYEMBO   Ketsia   12   C\n",
       "3  2022010114     KALOMBO   Charly   26   D\n",
       "4  2022010115      KALOBO   Justin   18   E"
      ]
     },
     "execution_count": 94,
     "metadata": {},
     "output_type": "execute_result"
    }
   ],
   "source": [
    "donnees_etudiants"
   ]
  },
  {
   "cell_type": "code",
   "execution_count": 96,
   "id": "b6dbb047-e37b-47e1-b423-9df0d640d155",
   "metadata": {},
   "outputs": [
    {
     "data": {
      "text/html": [
       "<div>\n",
       "<style scoped>\n",
       "    .dataframe tbody tr th:only-of-type {\n",
       "        vertical-align: middle;\n",
       "    }\n",
       "\n",
       "    .dataframe tbody tr th {\n",
       "        vertical-align: top;\n",
       "    }\n",
       "\n",
       "    .dataframe thead th {\n",
       "        text-align: right;\n",
       "    }\n",
       "</style>\n",
       "<table border=\"1\" class=\"dataframe\">\n",
       "  <thead>\n",
       "    <tr style=\"text-align: right;\">\n",
       "      <th></th>\n",
       "      <th>Matricule</th>\n",
       "      <th>Nom</th>\n",
       "      <th>Prenom</th>\n",
       "      <th>Age</th>\n",
       "      <th>GPA</th>\n",
       "    </tr>\n",
       "  </thead>\n",
       "  <tbody>\n",
       "    <tr>\n",
       "      <th>0</th>\n",
       "      <td>2022010111</td>\n",
       "      <td>SAMPATWA</td>\n",
       "      <td>Diev</td>\n",
       "      <td>25</td>\n",
       "      <td>A</td>\n",
       "    </tr>\n",
       "    <tr>\n",
       "      <th>1</th>\n",
       "      <td>2022010112</td>\n",
       "      <td>KATUMBA</td>\n",
       "      <td>Manassé</td>\n",
       "      <td>22</td>\n",
       "      <td>B</td>\n",
       "    </tr>\n",
       "    <tr>\n",
       "      <th>2</th>\n",
       "      <td>2022010113</td>\n",
       "      <td>KIMENYEMBO</td>\n",
       "      <td>Ketsia</td>\n",
       "      <td>12</td>\n",
       "      <td>C</td>\n",
       "    </tr>\n",
       "    <tr>\n",
       "      <th>3</th>\n",
       "      <td>2022010114</td>\n",
       "      <td>KALOMBO</td>\n",
       "      <td>Charly</td>\n",
       "      <td>26</td>\n",
       "      <td>D</td>\n",
       "    </tr>\n",
       "  </tbody>\n",
       "</table>\n",
       "</div>"
      ],
      "text/plain": [
       "    Matricule         Nom   Prenom  Age GPA\n",
       "0  2022010111    SAMPATWA     Diev   25   A\n",
       "1  2022010112     KATUMBA  Manassé   22   B\n",
       "2  2022010113  KIMENYEMBO   Ketsia   12   C\n",
       "3  2022010114     KALOMBO   Charly   26   D"
      ]
     },
     "execution_count": 96,
     "metadata": {},
     "output_type": "execute_result"
    }
   ],
   "source": [
    "donnees_etudiants.head(4)"
   ]
  },
  {
   "cell_type": "code",
   "execution_count": 98,
   "id": "0c7a7f7c-1301-4c4c-9b03-69955b1aa8c9",
   "metadata": {},
   "outputs": [
    {
     "data": {
      "text/html": [
       "<div>\n",
       "<style scoped>\n",
       "    .dataframe tbody tr th:only-of-type {\n",
       "        vertical-align: middle;\n",
       "    }\n",
       "\n",
       "    .dataframe tbody tr th {\n",
       "        vertical-align: top;\n",
       "    }\n",
       "\n",
       "    .dataframe thead th {\n",
       "        text-align: right;\n",
       "    }\n",
       "</style>\n",
       "<table border=\"1\" class=\"dataframe\">\n",
       "  <thead>\n",
       "    <tr style=\"text-align: right;\">\n",
       "      <th></th>\n",
       "      <th>Matricule</th>\n",
       "      <th>Nom</th>\n",
       "      <th>Prenom</th>\n",
       "      <th>Age</th>\n",
       "      <th>GPA</th>\n",
       "    </tr>\n",
       "  </thead>\n",
       "  <tbody>\n",
       "    <tr>\n",
       "      <th>3</th>\n",
       "      <td>2022010114</td>\n",
       "      <td>KALOMBO</td>\n",
       "      <td>Charly</td>\n",
       "      <td>26</td>\n",
       "      <td>D</td>\n",
       "    </tr>\n",
       "    <tr>\n",
       "      <th>4</th>\n",
       "      <td>2022010115</td>\n",
       "      <td>KALOBO</td>\n",
       "      <td>Justin</td>\n",
       "      <td>18</td>\n",
       "      <td>E</td>\n",
       "    </tr>\n",
       "  </tbody>\n",
       "</table>\n",
       "</div>"
      ],
      "text/plain": [
       "    Matricule      Nom  Prenom  Age GPA\n",
       "3  2022010114  KALOMBO  Charly   26   D\n",
       "4  2022010115   KALOBO  Justin   18   E"
      ]
     },
     "execution_count": 98,
     "metadata": {},
     "output_type": "execute_result"
    }
   ],
   "source": [
    "donnees_etudiants.tail(2)"
   ]
  },
  {
   "cell_type": "code",
   "execution_count": 100,
   "id": "1d3a995e-33e5-419b-b84e-3078d5776fc2",
   "metadata": {},
   "outputs": [
    {
     "name": "stdout",
     "output_type": "stream",
     "text": [
      "    Matricule         Nom   Prenom  Age GPA\n",
      "0  2022010111    SAMPATWA     Diev   25   A\n",
      "1  2022010112     KATUMBA  Manassé   22   B\n",
      "2  2022010113  KIMENYEMBO   Ketsia   12   C\n",
      "3  2022010114     KALOMBO   Charly   26   D\n",
      "4  2022010115      KALOBO   Justin   18   E\n"
     ]
    }
   ],
   "source": [
    "print(donnees_etudiants)"
   ]
  },
  {
   "cell_type": "code",
   "execution_count": 102,
   "id": "a4ef8607-489a-4a8d-940c-731e570581e8",
   "metadata": {},
   "outputs": [
    {
     "data": {
      "text/plain": [
       "0    2022010111\n",
       "1    2022010112\n",
       "2    2022010113\n",
       "3    2022010114\n",
       "4    2022010115\n",
       "Name: Matricule, dtype: object"
      ]
     },
     "execution_count": 102,
     "metadata": {},
     "output_type": "execute_result"
    }
   ],
   "source": [
    "donnees_etudiants['Matricule']"
   ]
  },
  {
   "cell_type": "code",
   "execution_count": 104,
   "id": "139d23fd-0a41-46a1-bde3-3de6ccba0fa8",
   "metadata": {},
   "outputs": [
    {
     "data": {
      "text/html": [
       "<div>\n",
       "<style scoped>\n",
       "    .dataframe tbody tr th:only-of-type {\n",
       "        vertical-align: middle;\n",
       "    }\n",
       "\n",
       "    .dataframe tbody tr th {\n",
       "        vertical-align: top;\n",
       "    }\n",
       "\n",
       "    .dataframe thead th {\n",
       "        text-align: right;\n",
       "    }\n",
       "</style>\n",
       "<table border=\"1\" class=\"dataframe\">\n",
       "  <thead>\n",
       "    <tr style=\"text-align: right;\">\n",
       "      <th></th>\n",
       "      <th>Matricule</th>\n",
       "      <th>Nom</th>\n",
       "      <th>Prenom</th>\n",
       "      <th>Age</th>\n",
       "      <th>GPA</th>\n",
       "    </tr>\n",
       "  </thead>\n",
       "  <tbody>\n",
       "    <tr>\n",
       "      <th>0</th>\n",
       "      <td>2022010111</td>\n",
       "      <td>SAMPATWA</td>\n",
       "      <td>Diev</td>\n",
       "      <td>25</td>\n",
       "      <td>A</td>\n",
       "    </tr>\n",
       "    <tr>\n",
       "      <th>1</th>\n",
       "      <td>2022010112</td>\n",
       "      <td>KATUMBA</td>\n",
       "      <td>Manassé</td>\n",
       "      <td>22</td>\n",
       "      <td>B</td>\n",
       "    </tr>\n",
       "    <tr>\n",
       "      <th>2</th>\n",
       "      <td>2022010113</td>\n",
       "      <td>KIMENYEMBO</td>\n",
       "      <td>Ketsia</td>\n",
       "      <td>12</td>\n",
       "      <td>C</td>\n",
       "    </tr>\n",
       "    <tr>\n",
       "      <th>3</th>\n",
       "      <td>2022010114</td>\n",
       "      <td>KALOMBO</td>\n",
       "      <td>Charly</td>\n",
       "      <td>26</td>\n",
       "      <td>D</td>\n",
       "    </tr>\n",
       "    <tr>\n",
       "      <th>4</th>\n",
       "      <td>2022010115</td>\n",
       "      <td>KALOBO</td>\n",
       "      <td>Justin</td>\n",
       "      <td>18</td>\n",
       "      <td>E</td>\n",
       "    </tr>\n",
       "  </tbody>\n",
       "</table>\n",
       "</div>"
      ],
      "text/plain": [
       "    Matricule         Nom   Prenom  Age GPA\n",
       "0  2022010111    SAMPATWA     Diev   25   A\n",
       "1  2022010112     KATUMBA  Manassé   22   B\n",
       "2  2022010113  KIMENYEMBO   Ketsia   12   C\n",
       "3  2022010114     KALOMBO   Charly   26   D\n",
       "4  2022010115      KALOBO   Justin   18   E"
      ]
     },
     "execution_count": 104,
     "metadata": {},
     "output_type": "execute_result"
    }
   ],
   "source": [
    "donnees_etudiants.iloc[ : , : ]"
   ]
  },
  {
   "cell_type": "code",
   "execution_count": 106,
   "id": "d617590d-f9b6-49d3-940b-d2d79449e7a0",
   "metadata": {},
   "outputs": [
    {
     "data": {
      "text/html": [
       "<div>\n",
       "<style scoped>\n",
       "    .dataframe tbody tr th:only-of-type {\n",
       "        vertical-align: middle;\n",
       "    }\n",
       "\n",
       "    .dataframe tbody tr th {\n",
       "        vertical-align: top;\n",
       "    }\n",
       "\n",
       "    .dataframe thead th {\n",
       "        text-align: right;\n",
       "    }\n",
       "</style>\n",
       "<table border=\"1\" class=\"dataframe\">\n",
       "  <thead>\n",
       "    <tr style=\"text-align: right;\">\n",
       "      <th></th>\n",
       "      <th>Matricule</th>\n",
       "      <th>Nom</th>\n",
       "      <th>Prenom</th>\n",
       "      <th>Age</th>\n",
       "      <th>GPA</th>\n",
       "    </tr>\n",
       "  </thead>\n",
       "  <tbody>\n",
       "    <tr>\n",
       "      <th>3</th>\n",
       "      <td>2022010114</td>\n",
       "      <td>KALOMBO</td>\n",
       "      <td>Charly</td>\n",
       "      <td>26</td>\n",
       "      <td>D</td>\n",
       "    </tr>\n",
       "  </tbody>\n",
       "</table>\n",
       "</div>"
      ],
      "text/plain": [
       "    Matricule      Nom  Prenom  Age GPA\n",
       "3  2022010114  KALOMBO  Charly   26   D"
      ]
     },
     "execution_count": 106,
     "metadata": {},
     "output_type": "execute_result"
    }
   ],
   "source": [
    "donnees_etudiants.iloc[ 3:4 , : ]"
   ]
  },
  {
   "cell_type": "code",
   "execution_count": 108,
   "id": "420c4d36-0418-43ca-affe-9dfdb1e0867f",
   "metadata": {},
   "outputs": [
    {
     "data": {
      "text/html": [
       "<div>\n",
       "<style scoped>\n",
       "    .dataframe tbody tr th:only-of-type {\n",
       "        vertical-align: middle;\n",
       "    }\n",
       "\n",
       "    .dataframe tbody tr th {\n",
       "        vertical-align: top;\n",
       "    }\n",
       "\n",
       "    .dataframe thead th {\n",
       "        text-align: right;\n",
       "    }\n",
       "</style>\n",
       "<table border=\"1\" class=\"dataframe\">\n",
       "  <thead>\n",
       "    <tr style=\"text-align: right;\">\n",
       "      <th></th>\n",
       "      <th>Matricule</th>\n",
       "      <th>Nom</th>\n",
       "      <th>Prenom</th>\n",
       "      <th>Age</th>\n",
       "      <th>GPA</th>\n",
       "    </tr>\n",
       "  </thead>\n",
       "  <tbody>\n",
       "    <tr>\n",
       "      <th>3</th>\n",
       "      <td>2022010114</td>\n",
       "      <td>KALOMBO</td>\n",
       "      <td>Charly</td>\n",
       "      <td>26</td>\n",
       "      <td>D</td>\n",
       "    </tr>\n",
       "  </tbody>\n",
       "</table>\n",
       "</div>"
      ],
      "text/plain": [
       "    Matricule      Nom  Prenom  Age GPA\n",
       "3  2022010114  KALOMBO  Charly   26   D"
      ]
     },
     "execution_count": 108,
     "metadata": {},
     "output_type": "execute_result"
    }
   ],
   "source": [
    "# Afficher seulement les informations de KALOMBO\n",
    "donnees_etudiants.iloc[ 3:4 , : ]"
   ]
  },
  {
   "cell_type": "code",
   "execution_count": 110,
   "id": "a55eee65-0d95-4bda-8124-b726b0844e55",
   "metadata": {},
   "outputs": [
    {
     "data": {
      "text/html": [
       "<div>\n",
       "<style scoped>\n",
       "    .dataframe tbody tr th:only-of-type {\n",
       "        vertical-align: middle;\n",
       "    }\n",
       "\n",
       "    .dataframe tbody tr th {\n",
       "        vertical-align: top;\n",
       "    }\n",
       "\n",
       "    .dataframe thead th {\n",
       "        text-align: right;\n",
       "    }\n",
       "</style>\n",
       "<table border=\"1\" class=\"dataframe\">\n",
       "  <thead>\n",
       "    <tr style=\"text-align: right;\">\n",
       "      <th></th>\n",
       "      <th>Nom</th>\n",
       "    </tr>\n",
       "  </thead>\n",
       "  <tbody>\n",
       "    <tr>\n",
       "      <th>3</th>\n",
       "      <td>KALOMBO</td>\n",
       "    </tr>\n",
       "  </tbody>\n",
       "</table>\n",
       "</div>"
      ],
      "text/plain": [
       "       Nom\n",
       "3  KALOMBO"
      ]
     },
     "execution_count": 110,
     "metadata": {},
     "output_type": "execute_result"
    }
   ],
   "source": [
    "donnees_etudiants.iloc[ 3:4 , 1:2 ]"
   ]
  },
  {
   "cell_type": "code",
   "execution_count": 112,
   "id": "d586bb66-3c45-41ad-9002-74d27636a9e6",
   "metadata": {},
   "outputs": [
    {
     "data": {
      "text/html": [
       "<div>\n",
       "<style scoped>\n",
       "    .dataframe tbody tr th:only-of-type {\n",
       "        vertical-align: middle;\n",
       "    }\n",
       "\n",
       "    .dataframe tbody tr th {\n",
       "        vertical-align: top;\n",
       "    }\n",
       "\n",
       "    .dataframe thead th {\n",
       "        text-align: right;\n",
       "    }\n",
       "</style>\n",
       "<table border=\"1\" class=\"dataframe\">\n",
       "  <thead>\n",
       "    <tr style=\"text-align: right;\">\n",
       "      <th></th>\n",
       "      <th>Nom</th>\n",
       "    </tr>\n",
       "  </thead>\n",
       "  <tbody>\n",
       "    <tr>\n",
       "      <th>1</th>\n",
       "      <td>KATUMBA</td>\n",
       "    </tr>\n",
       "  </tbody>\n",
       "</table>\n",
       "</div>"
      ],
      "text/plain": [
       "       Nom\n",
       "1  KATUMBA"
      ]
     },
     "execution_count": 112,
     "metadata": {},
     "output_type": "execute_result"
    }
   ],
   "source": [
    "donnees_etudiants.iloc[ 1:2 , 1 : 2]"
   ]
  },
  {
   "cell_type": "code",
   "execution_count": 114,
   "id": "cc4d04cb-84dc-4293-8010-604621f0996e",
   "metadata": {},
   "outputs": [],
   "source": [
    "# Ajouter les colonnes\n",
    "donnees_etudiants['Genre'] = ['M','M','F','M','M']\n",
    "donnees_etudiants['Pourcentage'] = [67, 78, 87, 90, 58]"
   ]
  },
  {
   "cell_type": "code",
   "execution_count": 116,
   "id": "d7732ee3-a2e6-42bf-be97-1fae39b9992a",
   "metadata": {},
   "outputs": [
    {
     "data": {
      "text/html": [
       "<div>\n",
       "<style scoped>\n",
       "    .dataframe tbody tr th:only-of-type {\n",
       "        vertical-align: middle;\n",
       "    }\n",
       "\n",
       "    .dataframe tbody tr th {\n",
       "        vertical-align: top;\n",
       "    }\n",
       "\n",
       "    .dataframe thead th {\n",
       "        text-align: right;\n",
       "    }\n",
       "</style>\n",
       "<table border=\"1\" class=\"dataframe\">\n",
       "  <thead>\n",
       "    <tr style=\"text-align: right;\">\n",
       "      <th></th>\n",
       "      <th>Matricule</th>\n",
       "      <th>Nom</th>\n",
       "      <th>Prenom</th>\n",
       "      <th>Age</th>\n",
       "      <th>GPA</th>\n",
       "      <th>Genre</th>\n",
       "      <th>Pourcentage</th>\n",
       "    </tr>\n",
       "  </thead>\n",
       "  <tbody>\n",
       "    <tr>\n",
       "      <th>0</th>\n",
       "      <td>2022010111</td>\n",
       "      <td>SAMPATWA</td>\n",
       "      <td>Diev</td>\n",
       "      <td>25</td>\n",
       "      <td>A</td>\n",
       "      <td>M</td>\n",
       "      <td>67</td>\n",
       "    </tr>\n",
       "    <tr>\n",
       "      <th>1</th>\n",
       "      <td>2022010112</td>\n",
       "      <td>KATUMBA</td>\n",
       "      <td>Manassé</td>\n",
       "      <td>22</td>\n",
       "      <td>B</td>\n",
       "      <td>M</td>\n",
       "      <td>78</td>\n",
       "    </tr>\n",
       "    <tr>\n",
       "      <th>2</th>\n",
       "      <td>2022010113</td>\n",
       "      <td>KIMENYEMBO</td>\n",
       "      <td>Ketsia</td>\n",
       "      <td>12</td>\n",
       "      <td>C</td>\n",
       "      <td>F</td>\n",
       "      <td>87</td>\n",
       "    </tr>\n",
       "    <tr>\n",
       "      <th>3</th>\n",
       "      <td>2022010114</td>\n",
       "      <td>KALOMBO</td>\n",
       "      <td>Charly</td>\n",
       "      <td>26</td>\n",
       "      <td>D</td>\n",
       "      <td>M</td>\n",
       "      <td>90</td>\n",
       "    </tr>\n",
       "    <tr>\n",
       "      <th>4</th>\n",
       "      <td>2022010115</td>\n",
       "      <td>KALOBO</td>\n",
       "      <td>Justin</td>\n",
       "      <td>18</td>\n",
       "      <td>E</td>\n",
       "      <td>M</td>\n",
       "      <td>58</td>\n",
       "    </tr>\n",
       "  </tbody>\n",
       "</table>\n",
       "</div>"
      ],
      "text/plain": [
       "    Matricule         Nom   Prenom  Age GPA Genre  Pourcentage\n",
       "0  2022010111    SAMPATWA     Diev   25   A     M           67\n",
       "1  2022010112     KATUMBA  Manassé   22   B     M           78\n",
       "2  2022010113  KIMENYEMBO   Ketsia   12   C     F           87\n",
       "3  2022010114     KALOMBO   Charly   26   D     M           90\n",
       "4  2022010115      KALOBO   Justin   18   E     M           58"
      ]
     },
     "execution_count": 116,
     "metadata": {},
     "output_type": "execute_result"
    }
   ],
   "source": [
    "donnees_etudiants"
   ]
  },
  {
   "cell_type": "code",
   "execution_count": 122,
   "id": "b0c863d1-cde2-48b7-b533-817cf53c307e",
   "metadata": {},
   "outputs": [],
   "source": [
    "# Comment supprimer la colonne GPA\n",
    "donnees_etudiants.drop(columns='GPA', inplace=True, axis=1)"
   ]
  },
  {
   "cell_type": "code",
   "execution_count": 124,
   "id": "02582455-a14a-468c-a763-d54444bf6a4a",
   "metadata": {},
   "outputs": [
    {
     "data": {
      "text/html": [
       "<div>\n",
       "<style scoped>\n",
       "    .dataframe tbody tr th:only-of-type {\n",
       "        vertical-align: middle;\n",
       "    }\n",
       "\n",
       "    .dataframe tbody tr th {\n",
       "        vertical-align: top;\n",
       "    }\n",
       "\n",
       "    .dataframe thead th {\n",
       "        text-align: right;\n",
       "    }\n",
       "</style>\n",
       "<table border=\"1\" class=\"dataframe\">\n",
       "  <thead>\n",
       "    <tr style=\"text-align: right;\">\n",
       "      <th></th>\n",
       "      <th>Matricule</th>\n",
       "      <th>Nom</th>\n",
       "      <th>Prenom</th>\n",
       "      <th>Age</th>\n",
       "      <th>Genre</th>\n",
       "      <th>Pourcentage</th>\n",
       "    </tr>\n",
       "  </thead>\n",
       "  <tbody>\n",
       "    <tr>\n",
       "      <th>0</th>\n",
       "      <td>2022010111</td>\n",
       "      <td>SAMPATWA</td>\n",
       "      <td>Diev</td>\n",
       "      <td>25</td>\n",
       "      <td>M</td>\n",
       "      <td>67</td>\n",
       "    </tr>\n",
       "    <tr>\n",
       "      <th>1</th>\n",
       "      <td>2022010112</td>\n",
       "      <td>KATUMBA</td>\n",
       "      <td>Manassé</td>\n",
       "      <td>22</td>\n",
       "      <td>M</td>\n",
       "      <td>78</td>\n",
       "    </tr>\n",
       "    <tr>\n",
       "      <th>2</th>\n",
       "      <td>2022010113</td>\n",
       "      <td>KIMENYEMBO</td>\n",
       "      <td>Ketsia</td>\n",
       "      <td>12</td>\n",
       "      <td>F</td>\n",
       "      <td>87</td>\n",
       "    </tr>\n",
       "    <tr>\n",
       "      <th>3</th>\n",
       "      <td>2022010114</td>\n",
       "      <td>KALOMBO</td>\n",
       "      <td>Charly</td>\n",
       "      <td>26</td>\n",
       "      <td>M</td>\n",
       "      <td>90</td>\n",
       "    </tr>\n",
       "    <tr>\n",
       "      <th>4</th>\n",
       "      <td>2022010115</td>\n",
       "      <td>KALOBO</td>\n",
       "      <td>Justin</td>\n",
       "      <td>18</td>\n",
       "      <td>M</td>\n",
       "      <td>58</td>\n",
       "    </tr>\n",
       "  </tbody>\n",
       "</table>\n",
       "</div>"
      ],
      "text/plain": [
       "    Matricule         Nom   Prenom  Age Genre  Pourcentage\n",
       "0  2022010111    SAMPATWA     Diev   25     M           67\n",
       "1  2022010112     KATUMBA  Manassé   22     M           78\n",
       "2  2022010113  KIMENYEMBO   Ketsia   12     F           87\n",
       "3  2022010114     KALOMBO   Charly   26     M           90\n",
       "4  2022010115      KALOBO   Justin   18     M           58"
      ]
     },
     "execution_count": 124,
     "metadata": {},
     "output_type": "execute_result"
    }
   ],
   "source": [
    "donnees_etudiants"
   ]
  },
  {
   "cell_type": "code",
   "execution_count": 128,
   "id": "98246e23-ea08-4602-99cf-1caf1f6e22f7",
   "metadata": {},
   "outputs": [],
   "source": [
    "# Convertir la colonne Genre en M = 1 et F = 0\n",
    "# Mapping de la colonne Genre\n",
    "Mapping_Genre = {\n",
    "    'M' : 1,\n",
    "    'F' : 0\n",
    "}\n",
    "\n",
    "donnees_etudiants['Genre'] = donnees_etudiants['Genre'].map(Mapping_Genre)"
   ]
  },
  {
   "cell_type": "code",
   "execution_count": 130,
   "id": "a5d91a4d-e75c-4e57-be5a-435f76d5fcf9",
   "metadata": {},
   "outputs": [
    {
     "data": {
      "text/html": [
       "<div>\n",
       "<style scoped>\n",
       "    .dataframe tbody tr th:only-of-type {\n",
       "        vertical-align: middle;\n",
       "    }\n",
       "\n",
       "    .dataframe tbody tr th {\n",
       "        vertical-align: top;\n",
       "    }\n",
       "\n",
       "    .dataframe thead th {\n",
       "        text-align: right;\n",
       "    }\n",
       "</style>\n",
       "<table border=\"1\" class=\"dataframe\">\n",
       "  <thead>\n",
       "    <tr style=\"text-align: right;\">\n",
       "      <th></th>\n",
       "      <th>Matricule</th>\n",
       "      <th>Nom</th>\n",
       "      <th>Prenom</th>\n",
       "      <th>Age</th>\n",
       "      <th>Genre</th>\n",
       "      <th>Pourcentage</th>\n",
       "    </tr>\n",
       "  </thead>\n",
       "  <tbody>\n",
       "    <tr>\n",
       "      <th>0</th>\n",
       "      <td>2022010111</td>\n",
       "      <td>SAMPATWA</td>\n",
       "      <td>Diev</td>\n",
       "      <td>25</td>\n",
       "      <td>1</td>\n",
       "      <td>67</td>\n",
       "    </tr>\n",
       "    <tr>\n",
       "      <th>1</th>\n",
       "      <td>2022010112</td>\n",
       "      <td>KATUMBA</td>\n",
       "      <td>Manassé</td>\n",
       "      <td>22</td>\n",
       "      <td>1</td>\n",
       "      <td>78</td>\n",
       "    </tr>\n",
       "    <tr>\n",
       "      <th>2</th>\n",
       "      <td>2022010113</td>\n",
       "      <td>KIMENYEMBO</td>\n",
       "      <td>Ketsia</td>\n",
       "      <td>12</td>\n",
       "      <td>0</td>\n",
       "      <td>87</td>\n",
       "    </tr>\n",
       "    <tr>\n",
       "      <th>3</th>\n",
       "      <td>2022010114</td>\n",
       "      <td>KALOMBO</td>\n",
       "      <td>Charly</td>\n",
       "      <td>26</td>\n",
       "      <td>1</td>\n",
       "      <td>90</td>\n",
       "    </tr>\n",
       "    <tr>\n",
       "      <th>4</th>\n",
       "      <td>2022010115</td>\n",
       "      <td>KALOBO</td>\n",
       "      <td>Justin</td>\n",
       "      <td>18</td>\n",
       "      <td>1</td>\n",
       "      <td>58</td>\n",
       "    </tr>\n",
       "  </tbody>\n",
       "</table>\n",
       "</div>"
      ],
      "text/plain": [
       "    Matricule         Nom   Prenom  Age  Genre  Pourcentage\n",
       "0  2022010111    SAMPATWA     Diev   25      1           67\n",
       "1  2022010112     KATUMBA  Manassé   22      1           78\n",
       "2  2022010113  KIMENYEMBO   Ketsia   12      0           87\n",
       "3  2022010114     KALOMBO   Charly   26      1           90\n",
       "4  2022010115      KALOBO   Justin   18      1           58"
      ]
     },
     "execution_count": 130,
     "metadata": {},
     "output_type": "execute_result"
    }
   ],
   "source": [
    "donnees_etudiants"
   ]
  },
  {
   "cell_type": "markdown",
   "id": "52f9dc50-93b6-4671-ad36-03fc2a82762e",
   "metadata": {},
   "source": [
    "# D. VISUALISATION DES DONNEES"
   ]
  },
  {
   "cell_type": "code",
   "execution_count": 135,
   "id": "bb3d0ce1-4c71-416d-aafa-716c72751e38",
   "metadata": {},
   "outputs": [],
   "source": [
    "# Creation de donnees\n",
    "X = np.linspace(0, 2, 50)"
   ]
  },
  {
   "cell_type": "code",
   "execution_count": 137,
   "id": "ad179e9f-0962-4602-a8ae-20f1b4f84102",
   "metadata": {},
   "outputs": [
    {
     "data": {
      "text/plain": [
       "array([0.        , 0.04081633, 0.08163265, 0.12244898, 0.16326531,\n",
       "       0.20408163, 0.24489796, 0.28571429, 0.32653061, 0.36734694,\n",
       "       0.40816327, 0.44897959, 0.48979592, 0.53061224, 0.57142857,\n",
       "       0.6122449 , 0.65306122, 0.69387755, 0.73469388, 0.7755102 ,\n",
       "       0.81632653, 0.85714286, 0.89795918, 0.93877551, 0.97959184,\n",
       "       1.02040816, 1.06122449, 1.10204082, 1.14285714, 1.18367347,\n",
       "       1.2244898 , 1.26530612, 1.30612245, 1.34693878, 1.3877551 ,\n",
       "       1.42857143, 1.46938776, 1.51020408, 1.55102041, 1.59183673,\n",
       "       1.63265306, 1.67346939, 1.71428571, 1.75510204, 1.79591837,\n",
       "       1.83673469, 1.87755102, 1.91836735, 1.95918367, 2.        ])"
      ]
     },
     "execution_count": 137,
     "metadata": {},
     "output_type": "execute_result"
    }
   ],
   "source": [
    "X"
   ]
  },
  {
   "cell_type": "code",
   "execution_count": 139,
   "id": "c1a8b039-0d00-4e60-b3f8-0335cf94ce24",
   "metadata": {},
   "outputs": [],
   "source": [
    "# Importer MATPLOTLIB\n",
    "import matplotlib.pyplot as plt "
   ]
  },
  {
   "cell_type": "code",
   "execution_count": 141,
   "id": "2764b1e5-04b2-469b-bf3b-f64276dc5578",
   "metadata": {},
   "outputs": [
    {
     "data": {
      "text/plain": [
       "[<matplotlib.lines.Line2D at 0x13ed0b09760>]"
      ]
     },
     "execution_count": 141,
     "metadata": {},
     "output_type": "execute_result"
    },
    {
     "data": {
      "image/png": "[encoded data removed]",
      "text/plain": [
       "<Figure size 600x400 with 1 Axes>"
      ]
     },
     "metadata": {},
     "output_type": "display_data"
    }
   ],
   "source": [
    "fig, ax = plt.subplots(figsize=(6, 4))\n",
    "ax.plot(X, X*2, label='Carre')"
   ]
  },
  {
   "cell_type": "code",
   "execution_count": 145,
   "id": "b07219af-d61d-4982-a364-7a557e454a56",
   "metadata": {},
   "outputs": [
    {
     "data": {
      "text/plain": [
       "<matplotlib.legend.Legend at 0x13ed0b44830>"
      ]
     },
     "execution_count": 145,
     "metadata": {},
     "output_type": "execute_result"
    },
    {
     "data": {
      "image/png": "[encoded data removed]",
      "text/plain": [
       "<Figure size 600x400 with 1 Axes>"
      ]
     },
     "metadata": {},
     "output_type": "display_data"
    }
   ],
   "source": [
    "fig, ax = plt.subplots(figsize=(6, 4))\n",
    "ax.plot(X, X*2, label='Double')\n",
    "ax.plot(X, X**2, label='Carre de X')\n",
    "ax.set_xlabel('Donnees de X')\n",
    "ax.set_ylabel('Donnees de Y')\n",
    "plt.title('Donnees de linspace entre 0 et 2')\n",
    "ax.legend()"
   ]
  },
  {
   "cell_type": "code",
   "execution_count": 147,
   "id": "b3e85524-45b4-4b90-9fcc-8bc9e2db33a2",
   "metadata": {},
   "outputs": [
    {
     "data": {
      "text/plain": [
       "<matplotlib.legend.Legend at 0x13ed2326870>"
      ]
     },
     "execution_count": 147,
     "metadata": {},
     "output_type": "execute_result"
    },
    {
     "data": {
      "image/png": "[encoded data removed]",
      "text/plain": [
       "<Figure size 600x400 with 1 Axes>"
      ]
     },
     "metadata": {},
     "output_type": "display_data"
    }
   ],
   "source": [
    "fig, ax = plt.subplots(figsize=(6, 4))\n",
    "ax.plot(X, X*2, label='Double')\n",
    "ax.plot(X, X**2, label='Carre de X')\n",
    "ax.plot(X, X**3, label='Cube de X')\n",
    "ax.set_xlabel('Donnees de X')\n",
    "ax.set_ylabel('Donnees de Y')\n",
    "plt.title('Donnees de linspace entre 0 et 2')\n",
    "ax.legend()"
   ]
  },
  {
   "cell_type": "code",
   "execution_count": 149,
   "id": "860d9290-e7de-44aa-81a6-86870b49801c",
   "metadata": {},
   "outputs": [],
   "source": [
    "# Importer Seaborn\n",
    "import seaborn as sns"
   ]
  },
  {
   "cell_type": "code",
   "execution_count": 151,
   "id": "428b8278-a6ec-4268-ae80-9df95668dd78",
   "metadata": {},
   "outputs": [],
   "source": [
    "iris_data = sns.load_dataset('iris')"
   ]
  },
  {
   "cell_type": "code",
   "execution_count": 153,
   "id": "e03fd7fc-4cb9-45b5-bce0-da1050375c0c",
   "metadata": {},
   "outputs": [
    {
     "data": {
      "text/html": [
       "<div>\n",
       "<style scoped>\n",
       "    .dataframe tbody tr th:only-of-type {\n",
       "        vertical-align: middle;\n",
       "    }\n",
       "\n",
       "    .dataframe tbody tr th {\n",
       "        vertical-align: top;\n",
       "    }\n",
       "\n",
       "    .dataframe thead th {\n",
       "        text-align: right;\n",
       "    }\n",
       "</style>\n",
       "<table border=\"1\" class=\"dataframe\">\n",
       "  <thead>\n",
       "    <tr style=\"text-align: right;\">\n",
       "      <th></th>\n",
       "      <th>sepal_length</th>\n",
       "      <th>sepal_width</th>\n",
       "      <th>petal_length</th>\n",
       "      <th>petal_width</th>\n",
       "      <th>species</th>\n",
       "    </tr>\n",
       "  </thead>\n",
       "  <tbody>\n",
       "    <tr>\n",
       "      <th>0</th>\n",
       "      <td>5.1</td>\n",
       "      <td>3.5</td>\n",
       "      <td>1.4</td>\n",
       "      <td>0.2</td>\n",
       "      <td>setosa</td>\n",
       "    </tr>\n",
       "    <tr>\n",
       "      <th>1</th>\n",
       "      <td>4.9</td>\n",
       "      <td>3.0</td>\n",
       "      <td>1.4</td>\n",
       "      <td>0.2</td>\n",
       "      <td>setosa</td>\n",
       "    </tr>\n",
       "    <tr>\n",
       "      <th>2</th>\n",
       "      <td>4.7</td>\n",
       "      <td>3.2</td>\n",
       "      <td>1.3</td>\n",
       "      <td>0.2</td>\n",
       "      <td>setosa</td>\n",
       "    </tr>\n",
       "    <tr>\n",
       "      <th>3</th>\n",
       "      <td>4.6</td>\n",
       "      <td>3.1</td>\n",
       "      <td>1.5</td>\n",
       "      <td>0.2</td>\n",
       "      <td>setosa</td>\n",
       "    </tr>\n",
       "    <tr>\n",
       "      <th>4</th>\n",
       "      <td>5.0</td>\n",
       "      <td>3.6</td>\n",
       "      <td>1.4</td>\n",
       "      <td>0.2</td>\n",
       "      <td>setosa</td>\n",
       "    </tr>\n",
       "  </tbody>\n",
       "</table>\n",
       "</div>"
      ],
      "text/plain": [
       "   sepal_length  sepal_width  petal_length  petal_width species\n",
       "0           5.1          3.5           1.4          0.2  setosa\n",
       "1           4.9          3.0           1.4          0.2  setosa\n",
       "2           4.7          3.2           1.3          0.2  setosa\n",
       "3           4.6          3.1           1.5          0.2  setosa\n",
       "4           5.0          3.6           1.4          0.2  setosa"
      ]
     },
     "execution_count": 153,
     "metadata": {},
     "output_type": "execute_result"
    }
   ],
   "source": [
    "iris_data.head()"
   ]
  },
  {
   "cell_type": "code",
   "execution_count": 155,
   "id": "7842f614-b01e-45de-9ef6-845cb607b832",
   "metadata": {},
   "outputs": [
    {
     "data": {
      "text/plain": [
       "(150, 5)"
      ]
     },
     "execution_count": 155,
     "metadata": {},
     "output_type": "execute_result"
    }
   ],
   "source": [
    "iris_data.shape"
   ]
  },
  {
   "cell_type": "code",
   "execution_count": 157,
   "id": "0d8ac76a-d871-412d-b897-269729838249",
   "metadata": {},
   "outputs": [
    {
     "data": {
      "text/plain": [
       "array(['setosa', 'versicolor', 'virginica'], dtype=object)"
      ]
     },
     "execution_count": 157,
     "metadata": {},
     "output_type": "execute_result"
    }
   ],
   "source": [
    "iris_data['species'].unique()"
   ]
  },
  {
   "cell_type": "code",
   "execution_count": 159,
   "id": "e6be1bfe-28a1-4085-b88e-66c323dd97f5",
   "metadata": {},
   "outputs": [
    {
     "data": {
      "text/plain": [
       "<Axes: xlabel='sepal_length', ylabel='sepal_width'>"
      ]
     },
     "execution_count": 159,
     "metadata": {},
     "output_type": "execute_result"
    },
    {
     "data": {
      "image/png": "[encoded data removed]",
      "text/plain": [
       "<Figure size 640x480 with 1 Axes>"
      ]
     },
     "metadata": {},
     "output_type": "display_data"
    }
   ],
   "source": [
    "sns.scatterplot(x='sepal_length', y='sepal_width', data=iris_data, hue='species')"
   ]
  },
  {
   "cell_type": "code",
   "execution_count": 161,
   "id": "4b527bd2-4825-4813-ae86-2fccdf58840a",
   "metadata": {},
   "outputs": [],
   "source": [
    "change = {\n",
    "    'setosa' : 0,\n",
    "    'versicolor' : 1,\n",
    "    'virginica' : 2\n",
    "}\n",
    "\n",
    "iris_data['species'] = iris_data['species'].map(change)"
   ]
  },
  {
   "cell_type": "code",
   "execution_count": 163,
   "id": "3fbd413c-0b1b-49b8-b596-1ae63daa5ca0",
   "metadata": {},
   "outputs": [
    {
     "data": {
      "text/html": [
       "<div>\n",
       "<style scoped>\n",
       "    .dataframe tbody tr th:only-of-type {\n",
       "        vertical-align: middle;\n",
       "    }\n",
       "\n",
       "    .dataframe tbody tr th {\n",
       "        vertical-align: top;\n",
       "    }\n",
       "\n",
       "    .dataframe thead th {\n",
       "        text-align: right;\n",
       "    }\n",
       "</style>\n",
       "<table border=\"1\" class=\"dataframe\">\n",
       "  <thead>\n",
       "    <tr style=\"text-align: right;\">\n",
       "      <th></th>\n",
       "      <th>sepal_length</th>\n",
       "      <th>sepal_width</th>\n",
       "      <th>petal_length</th>\n",
       "      <th>petal_width</th>\n",
       "      <th>species</th>\n",
       "    </tr>\n",
       "  </thead>\n",
       "  <tbody>\n",
       "    <tr>\n",
       "      <th>0</th>\n",
       "      <td>5.1</td>\n",
       "      <td>3.5</td>\n",
       "      <td>1.4</td>\n",
       "      <td>0.2</td>\n",
       "      <td>0</td>\n",
       "    </tr>\n",
       "    <tr>\n",
       "      <th>1</th>\n",
       "      <td>4.9</td>\n",
       "      <td>3.0</td>\n",
       "      <td>1.4</td>\n",
       "      <td>0.2</td>\n",
       "      <td>0</td>\n",
       "    </tr>\n",
       "    <tr>\n",
       "      <th>2</th>\n",
       "      <td>4.7</td>\n",
       "      <td>3.2</td>\n",
       "      <td>1.3</td>\n",
       "      <td>0.2</td>\n",
       "      <td>0</td>\n",
       "    </tr>\n",
       "    <tr>\n",
       "      <th>3</th>\n",
       "      <td>4.6</td>\n",
       "      <td>3.1</td>\n",
       "      <td>1.5</td>\n",
       "      <td>0.2</td>\n",
       "      <td>0</td>\n",
       "    </tr>\n",
       "    <tr>\n",
       "      <th>4</th>\n",
       "      <td>5.0</td>\n",
       "      <td>3.6</td>\n",
       "      <td>1.4</td>\n",
       "      <td>0.2</td>\n",
       "      <td>0</td>\n",
       "    </tr>\n",
       "    <tr>\n",
       "      <th>...</th>\n",
       "      <td>...</td>\n",
       "      <td>...</td>\n",
       "      <td>...</td>\n",
       "      <td>...</td>\n",
       "      <td>...</td>\n",
       "    </tr>\n",
       "    <tr>\n",
       "      <th>145</th>\n",
       "      <td>6.7</td>\n",
       "      <td>3.0</td>\n",
       "      <td>5.2</td>\n",
       "      <td>2.3</td>\n",
       "      <td>2</td>\n",
       "    </tr>\n",
       "    <tr>\n",
       "      <th>146</th>\n",
       "      <td>6.3</td>\n",
       "      <td>2.5</td>\n",
       "      <td>5.0</td>\n",
       "      <td>1.9</td>\n",
       "      <td>2</td>\n",
       "    </tr>\n",
       "    <tr>\n",
       "      <th>147</th>\n",
       "      <td>6.5</td>\n",
       "      <td>3.0</td>\n",
       "      <td>5.2</td>\n",
       "      <td>2.0</td>\n",
       "      <td>2</td>\n",
       "    </tr>\n",
       "    <tr>\n",
       "      <th>148</th>\n",
       "      <td>6.2</td>\n",
       "      <td>3.4</td>\n",
       "      <td>5.4</td>\n",
       "      <td>2.3</td>\n",
       "      <td>2</td>\n",
       "    </tr>\n",
       "    <tr>\n",
       "      <th>149</th>\n",
       "      <td>5.9</td>\n",
       "      <td>3.0</td>\n",
       "      <td>5.1</td>\n",
       "      <td>1.8</td>\n",
       "      <td>2</td>\n",
       "    </tr>\n",
       "  </tbody>\n",
       "</table>\n",
       "<p>150 rows × 5 columns</p>\n",
       "</div>"
      ],
      "text/plain": [
       "     sepal_length  sepal_width  petal_length  petal_width  species\n",
       "0             5.1          3.5           1.4          0.2        0\n",
       "1             4.9          3.0           1.4          0.2        0\n",
       "2             4.7          3.2           1.3          0.2        0\n",
       "3             4.6          3.1           1.5          0.2        0\n",
       "4             5.0          3.6           1.4          0.2        0\n",
       "..            ...          ...           ...          ...      ...\n",
       "145           6.7          3.0           5.2          2.3        2\n",
       "146           6.3          2.5           5.0          1.9        2\n",
       "147           6.5          3.0           5.2          2.0        2\n",
       "148           6.2          3.4           5.4          2.3        2\n",
       "149           5.9          3.0           5.1          1.8        2\n",
       "\n",
       "[150 rows x 5 columns]"
      ]
     },
     "execution_count": 163,
     "metadata": {},
     "output_type": "execute_result"
    }
   ],
   "source": [
    "iris_data"
   ]
  },
  {
   "cell_type": "code",
   "execution_count": 165,
   "id": "26c037e4-0f66-46c1-9aed-9eb50b1d54b4",
   "metadata": {},
   "outputs": [
    {
     "data": {
      "text/plain": [
       "array([0, 1, 2], dtype=int64)"
      ]
     },
     "execution_count": 165,
     "metadata": {},
     "output_type": "execute_result"
    }
   ],
   "source": [
    "iris_data['species'].unique()"
   ]
  },
  {
   "cell_type": "code",
   "execution_count": null,
   "id": "8d386de9-cefc-49c9-b0da-a0e7e81b8d48",
   "metadata": {},
   "outputs": [],
   "source": []
  }
 ],
 "metadata": {
  "kernelspec": {
   "display_name": "Python 3 (ipykernel)",
   "language": "python",
   "name": "python3"
  },
  "language_info": {
   "codemirror_mode": {
    "name": "ipython",
    "version": 3
   },
   "file_extension": ".py",
   "mimetype": "text/x-python",
   "name": "python",
   "nbconvert_exporter": "python",
   "pygments_lexer": "ipython3",
   "version": "3.10.16"
  }
 },
 "nbformat": 4,
 "nbformat_minor": 5
}
